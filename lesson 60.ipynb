{
 "cells": [
  {
   "cell_type": "code",
   "execution_count": 2,
   "id": "6291c2b6",
   "metadata": {},
   "outputs": [],
   "source": [
    "import cv2 \n",
    "import numpy as np\n",
    "import matplotlib.pyplot as plt"
   ]
  },
  {
   "cell_type": "code",
   "execution_count": 12,
   "id": "7b766d2b",
   "metadata": {},
   "outputs": [],
   "source": [
    "image = cv2.imread('C:\\\\Users\\\\Bruger\\\\Downloads\\\\cat.jpg', cv2.IMREAD_GRAYSCALE)\n",
    "\n",
    "sobel_x = cv2.Sobel(image, cv2.CV_64F, 1, 0, ksize=5)\n",
    "\n",
    "sobel_y = cv2.Sobel(image, cv2.CV_64F, 0, 1, ksize=5)\n",
    "\n",
    "sobel_combined = cv2.addWeighted(sobel_x, 0.5, sobel_y, 0.5, 0)\n",
    "\n",
    "cv2.imshow('Sobel Filter', sobel_combined)\n",
    "cv2.waitKey(0)\n",
    "cv2.destroyAllWindows()"
   ]
  },
  {
   "cell_type": "code",
   "execution_count": 13,
   "id": "67c608fd",
   "metadata": {},
   "outputs": [],
   "source": [
    "edges = cv2.Canny(image, threshold1=30, threshold2=100) \n",
    "\n",
    "cv2.imshow('Canny Edge Detection', edges)\n",
    "cv2.waitKey(0)\n",
    "cv2.destroyAllWindows()"
   ]
  },
  {
   "cell_type": "code",
   "execution_count": 14,
   "id": "cb628930",
   "metadata": {},
   "outputs": [],
   "source": [
    "roberts_cross_v = np.array([[1, 0], [0, -1]])\n",
    "roberts_cross_h = np.array([[0, 1], [-1, 0]])\n",
    "\n",
    "vertical_edges = cv2.filter2D(image, -1, roberts_cross_v)\n",
    "horizontal_edges = cv2.filter2D(image, -1, roberts_cross_h)\n",
    "\n",
    "roberts_edges = cv2.addWeighted(vertical_edges, 0.5, horizontal_edges, 0.5, 0)\n",
    "\n",
    "cv2.imshow('Roberts Edge Detection', roberts_edges)\n",
    "cv2.waitKey(0)\n",
    "cv2.destroyAllWindows()"
   ]
  },
  {
   "cell_type": "code",
   "execution_count": 15,
   "id": "f8fa02ec",
   "metadata": {},
   "outputs": [
    {
     "data": {
      "text/plain": [
       "'\\nФільтр Canny є найбільш деталізованим методом виявлення границь.В той час як фільтр Робертса ледь-ледь виділив границі, їх майже не видно\\n'"
      ]
     },
     "execution_count": 15,
     "metadata": {},
     "output_type": "execute_result"
    }
   ],
   "source": [
    "'''\n",
    "Фільтр Canny є найбільш деталізованим методом виявлення границь.В той час як фільтр Робертса ледь-ледь виділив границі, їх майже не видно\n",
    "'''"
   ]
  },
  {
   "cell_type": "code",
   "execution_count": null,
   "id": "50ce8de1",
   "metadata": {},
   "outputs": [],
   "source": []
  }
 ],
 "metadata": {
  "kernelspec": {
   "display_name": "Python 3 (ipykernel)",
   "language": "python",
   "name": "python3"
  },
  "language_info": {
   "codemirror_mode": {
    "name": "ipython",
    "version": 3
   },
   "file_extension": ".py",
   "mimetype": "text/x-python",
   "name": "python",
   "nbconvert_exporter": "python",
   "pygments_lexer": "ipython3",
   "version": "3.11.3"
  }
 },
 "nbformat": 4,
 "nbformat_minor": 5
}
